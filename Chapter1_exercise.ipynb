{
  "nbformat": 4,
  "nbformat_minor": 0,
  "metadata": {
    "colab": {
      "provenance": []
    },
    "kernelspec": {
      "name": "python3",
      "display_name": "Python 3"
    },
    "language_info": {
      "name": "python"
    }
  },
  "cells": [
    {
      "cell_type": "markdown",
      "source": [
        "Exercise 1"
      ],
      "metadata": {
        "id": "XppRPHtk51Vm"
      }
    },
    {
      "cell_type": "code",
      "execution_count": 8,
      "metadata": {
        "id": "6QrmTSQXukqu",
        "colab": {
          "base_uri": "https://localhost:8080/"
        },
        "outputId": "f23f2280-f94b-437e-9b48-fadf4e72aa19"
      },
      "outputs": [
        {
          "output_type": "stream",
          "name": "stdout",
          "text": [
            "Hello world\n"
          ]
        }
      ],
      "source": [
        "#Print('Hello world!');\n",
        "#The correct function name is print(), not Print()\n",
        "print('Hello world')"
      ]
    },
    {
      "cell_type": "code",
      "source": [
        "#print'Hello world!');\n",
        "#missing 1 parentheses \"(\"\n",
        "print('Hello world!')"
      ],
      "metadata": {
        "colab": {
          "base_uri": "https://localhost:8080/"
        },
        "id": "j71OYYnO4zmu",
        "outputId": "3f962b57-09f2-4f5a-f281-552d01fb87ce"
      },
      "execution_count": 7,
      "outputs": [
        {
          "output_type": "stream",
          "name": "stdout",
          "text": [
            "Hello world!\n"
          ]
        }
      ]
    },
    {
      "cell_type": "code",
      "source": [
        "#print ('Hello world!);\n",
        "#missing 1 quotation '\n",
        "print('Hello world!')"
      ],
      "metadata": {
        "colab": {
          "base_uri": "https://localhost:8080/"
        },
        "id": "RFrQ1VlR5Hmc",
        "outputId": "81241118-afc0-4edf-a54d-e2c845c47f0a"
      },
      "execution_count": 6,
      "outputs": [
        {
          "output_type": "stream",
          "name": "stdout",
          "text": [
            "Hello world!\n"
          ]
        }
      ]
    },
    {
      "cell_type": "code",
      "source": [
        "#print('Hello world!'')\n",
        "# there's an extra single quote '\n",
        "print('Hello world!')"
      ],
      "metadata": {
        "colab": {
          "base_uri": "https://localhost:8080/"
        },
        "id": "a4aXijGL5gjV",
        "outputId": "685a09d2-4685-4285-e82f-e515b4a286fa"
      },
      "execution_count": 9,
      "outputs": [
        {
          "output_type": "stream",
          "name": "stdout",
          "text": [
            "Hello world!\n"
          ]
        }
      ]
    },
    {
      "cell_type": "markdown",
      "source": [
        "Exercise 2"
      ],
      "metadata": {
        "id": "Gdw0LKs-6Dtj"
      }
    },
    {
      "cell_type": "code",
      "source": [
        "#x = 43\n",
        "#x = x + 1\n",
        "#print(x)\n",
        "# I change x to 42\n",
        "x = 43\n",
        "x = 42 + 1\n",
        "print(x)\n"
      ],
      "metadata": {
        "colab": {
          "base_uri": "https://localhost:8080/"
        },
        "id": "pT6VaO6i5xpl",
        "outputId": "b5a54436-b5ed-4f8c-e0cc-c08da7d9855e"
      },
      "execution_count": 14,
      "outputs": [
        {
          "output_type": "stream",
          "name": "stdout",
          "text": [
            "43\n"
          ]
        }
      ]
    },
    {
      "cell_type": "markdown",
      "source": [
        "Exercise 3"
      ],
      "metadata": {
        "id": "lZYZcS5b6bqM"
      }
    },
    {
      "cell_type": "code",
      "source": [
        "#x = 43\n",
        "#x = X + 1\n",
        "#print(x)\n",
        "# issue in of this code is X (uppercase) instead of x (lowercase).\n",
        "x = 43\n",
        "x = x + 1\n",
        "print(x)\n"
      ],
      "metadata": {
        "colab": {
          "base_uri": "https://localhost:8080/"
        },
        "id": "KAU7sinf6bQE",
        "outputId": "40a0d104-743a-4c47-d304-9e00d4d4d36c"
      },
      "execution_count": 13,
      "outputs": [
        {
          "output_type": "stream",
          "name": "stdout",
          "text": [
            "44\n"
          ]
        }
      ]
    }
  ]
}